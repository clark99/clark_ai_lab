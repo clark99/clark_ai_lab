{
 "cells": [
  {
   "cell_type": "markdown",
   "metadata": {},
   "source": [
    "# 1 boosting算法思想\n",
    "## 1.1 boosting算法"
   ]
  },
  {
   "cell_type": "markdown",
   "metadata": {},
   "source": [
    "- Boosting算法是指用一组低精度分类器，用来创建高度精确的分类器。\n",
    "- 低精度分类器（或弱分类器）提供的精度略优于0.5。\n",
    "- 高精度分类器（或强分类器）提供接近0的错误率。\n",
    "- Boosting会集中关注分类器进行分类错误的数据，通过重新处理错误的数据获得新的分类器。"
   ]
  },
  {
   "cell_type": "markdown",
   "metadata": {},
   "source": [
    "## 1.2 AdaBoost算法"
   ]
  },
  {
   "cell_type": "markdown",
   "metadata": {},
   "source": [
    "- AdaBoost(Adaptive Boosting)算法，其运行原理为：\n",
    "     * 首先从训练集用初始权重（一般初始为相等值）训练出一个弱学习器1，\n",
    "     * 根据弱学习的学习误差率表现来更新训练样本的权重。\n",
    "        + 比如某些训练样本点在弱学习器1上学习误差率高，\n",
    "        + 则调整这些样本的权重，使得这些误差率高的点在后面的弱学习器2中得到更多的重视。\n",
    "        + 然后基于调整权重后的训练集来训练弱学习器2.，\n",
    "        + 如此重复进行，直到弱学习器数达到事先指定的数目T，\n",
    "        + 最终将这T个弱学习器通过集合策略进行整合，得到最终的强学习器。　"
   ]
  },
  {
   "cell_type": "markdown",
   "metadata": {},
   "source": [
    "## 1.3 AdaBoost算法流程"
   ]
  },
  {
   "cell_type": "markdown",
   "metadata": {},
   "source": [
    "- （1）初始化训练数据（每个样本）的权值分布。每一个训练样本，初始化时赋予同样的权值$w=1/N$。N为样本总数。\n",
    "    $$\n",
    "    D_{1}=\\left(w_{11}, w_{12} \\cdots w_{1 i} \\cdots, w_{1 N}\\right), w_{1 i}=\\frac{1}{N}, i=1,2, \\cdots, N\n",
    "    $$\n",
    "    * D1表示，第一次迭代每个样本的权值。w11表示，第1次迭代时的第一个样本的权值"
   ]
  },
  {
   "cell_type": "markdown",
   "metadata": {},
   "source": [
    "- (2) 进行迭代 m=1，2….M 。m表示迭代次数\n",
    "    * a）使用具有权值分布 Dm(m=1,2,3...m) 的训练样本集进行学习，获得弱分类器。\n",
    "    $G_{m}(x) : \\quad \\chi \\rightarrow\\{-1,+1\\}$\n",
    "        + 该式子表示，第m次迭代时的弱分类器，将样本x要么分类成-1，要么分类成1\n",
    "        + 弱分类器的原则：弱分类器的误差函数最小，也就是分错的样本对应的权值之和最小。\n",
    "            $$\n",
    "            e_{m}=\\sum_{n=1}^{N} w_{n}^{(m)} I\\left(y_{m}\\left(\\mathbf{x}_{n}\\right) \\neq t_{n}\\right)\n",
    "            $$\n",
    "    * b) 计算弱分类器 Gm(x) 的话语权，话语权 αm 表示 Gm 在最终分类器中的重要程度。其中em为上步中的 em （误差函数的值）  \n",
    "         $$ \\alpha_{m}=\\frac{1}{2} \\log \\frac{1-e_{m}}{e_{m}}$$\n",
    "        + 随着 em 减少而增大，即误差率小的分类器，在最终分类器中发挥的作用越重要。\n",
    "    *  c） 更新训练样本集的权值分布。用于下一轮迭代。其中，被误分的样本的权值会增大，被正确分类的权值减少。\n",
    "        + $$\n",
    "        D_{m+1}=\\left(w_{m+1,1}, w_{m+1,2} \\cdots w_{m+1, i} \\cdots, w_{m+1, N}\\right)\n",
    "        w_{m+1, i}=\\frac{w_{m i}}{Z_{m}} \\exp \\left(-\\alpha_{m} y_{i} G_{m}\\left(x_{i}\\right)\\right), i=1,2, \\cdots, N\n",
    "        $$\n",
    "        + Dm+1 是用于下次迭代时样本的权值，Wm+1,i是下一次迭代时，第i个样本的权值\n",
    "        + yi 代表第i个样本对应的类别（1或-1），Gm（xi）表示弱分类器对样本xi的分类（1或-1）\n",
    "        + 如果分类正确， $y_i*G_m（x_i）$ 的值为1，反之为-1。其中 Zm 是归一化因子，使得所有样本对应的权值之和为1.\n",
    "        $$\n",
    "        Z_{m}=\\sum_{i=1}^{N} w_{m i} \\exp \\left(-\\alpha_{m} y_{i} G_{m}\\left(x_{i}\\right)\\right)\n",
    "        $$"
   ]
  },
  {
   "cell_type": "markdown",
   "metadata": {},
   "source": [
    "- 3）迭代完成后，组合弱分类器。\n",
    "$$\n",
    "f(x)=\\sum_{m=1}^{M} \\alpha_{m} G_{m}(x)\n",
    "$$\n",
    "然后，加个sign函数，该函数用于求数值的正负。输入数值大于0，结果为1。输入小于0，结果为-1。输入等于0，结果为0。得到最终的强分类器G（x）\n",
    "$$\n",
    "G(x)=\\operatorname{sign}(f(x))=\\operatorname{sign}\\left(\\sum_{m=1}^{M} \\alpha_{m} G_{m}(x)\\right)\n",
    "$$"
   ]
  },
  {
   "cell_type": "markdown",
   "metadata": {},
   "source": [
    "# 2 代码案例"
   ]
  },
  {
   "cell_type": "markdown",
   "metadata": {},
   "source": [
    "## 2.1 案例1"
   ]
  },
  {
   "cell_type": "code",
   "execution_count": 5,
   "metadata": {},
   "outputs": [],
   "source": [
    "import numpy as np\n",
    "from sklearn.ensemble import AdaBoostClassifier\n",
    "\"\"\"\n",
    "    class AdaBoostClassifier(BaseWeightBoosting, ClassifierMixin):\n",
    "        Parameters:\n",
    "            base_estimator : 弱分类学习器或者弱回归学习器\n",
    "            n_estimators : 弱学习器的最大迭代次数\n",
    "            learning_rate : 每个弱学习器的权重缩减系数\n",
    "            algorithm：学习器权重的度量算法\n",
    "            random_state : 随机种子\n",
    "        Attributes：\n",
    "            estimators_ : 弱学习器集合\n",
    "            classes_ : 分类的标签\n",
    "            n_classes_ : 类别数\n",
    "            estimator_weights_ : 每个学习器的权重\n",
    "            estimator_errors_ :每个学习器分类错误的数组\n",
    "            feature_importances_ : 特征的重要程度\n",
    "\"\"\"\n",
    "from sklearn import datasets\n",
    "from sklearn.model_selection import train_test_split\n",
    "from sklearn import metrics"
   ]
  },
  {
   "cell_type": "code",
   "execution_count": 6,
   "metadata": {},
   "outputs": [
    {
     "name": "stdout",
     "output_type": "stream",
     "text": [
      "特征矩阵：\n",
      "[[5.1 3.5 1.4 0.2]\n",
      " [4.9 3.  1.4 0.2]\n",
      " [4.7 3.2 1.3 0.2]\n",
      " [4.6 3.1 1.5 0.2]\n",
      " [5.  3.6 1.4 0.2]]\n",
      "鸢尾花类别：\n",
      "[0 1 2]\n"
     ]
    }
   ],
   "source": [
    "iris = datasets.load_iris()\n",
    "X = iris.data\n",
    "y = iris.target\n",
    "print(\"特征矩阵：\")\n",
    "print(X[:5,:])\n",
    "print(\"鸢尾花类别：\")\n",
    "print(np.unique(y))"
   ]
  },
  {
   "cell_type": "markdown",
   "metadata": {},
   "source": [
    "- Sepal.Length（花萼长度），单位是cm;\n",
    "- Sepal.Width（花萼宽度），单位是cm;\n",
    "- Petal.Length（花瓣长度），单位是cm;\n",
    "- Petal.Width（花瓣宽度），单位是cm;\n",
    "- 种类：Iris Setosa（山鸢尾）、Iris Versicolour（杂色鸢尾），以及Iris Virginica（维吉尼亚鸢尾）。"
   ]
  },
  {
   "cell_type": "code",
   "execution_count": 7,
   "metadata": {},
   "outputs": [],
   "source": [
    "X_train, X_test, y_train, y_test = train_test_split(X, y, test_size=0.3,random_state=45)\n"
   ]
  },
  {
   "cell_type": "code",
   "execution_count": 8,
   "metadata": {},
   "outputs": [],
   "source": [
    "abc = AdaBoostClassifier(n_estimators=50,learning_rate=1)\n",
    "model = abc.fit(X_train, y_train)\n",
    "y_pred = model.predict(X_test)"
   ]
  },
  {
   "cell_type": "code",
   "execution_count": 9,
   "metadata": {},
   "outputs": [
    {
     "name": "stdout",
     "output_type": "stream",
     "text": [
      "Accuracy: 0.9555555555555556\n"
     ]
    }
   ],
   "source": [
    "print(\"Accuracy:\",metrics.accuracy_score(y_test, y_pred))\n"
   ]
  },
  {
   "cell_type": "markdown",
   "metadata": {},
   "source": [
    "## 2.2 案例2"
   ]
  },
  {
   "cell_type": "code",
   "execution_count": 10,
   "metadata": {},
   "outputs": [],
   "source": [
    "cancer=datasets.load_breast_cancer()\n",
    "X=cancer.data\n",
    "y=cancer.target"
   ]
  },
  {
   "cell_type": "code",
   "execution_count": 11,
   "metadata": {},
   "outputs": [],
   "source": [
    "X_train, X_test, y_train, y_test = train_test_split(X, y, test_size=0.3,random_state=0)\n"
   ]
  },
  {
   "cell_type": "code",
   "execution_count": 12,
   "metadata": {},
   "outputs": [],
   "source": [
    "def getScore(n_classifier,X_train, y_train):\n",
    "    abc = AdaBoostClassifier(n_estimators=n_classifier,learning_rate=0.8)\n",
    "    model = abc.fit(X_train, y_train)\n",
    "    y_pred = model.predict(X_test)\n",
    "    return abc.score(X,y)"
   ]
  },
  {
   "cell_type": "code",
   "execution_count": 13,
   "metadata": {},
   "outputs": [],
   "source": [
    "draw_x=list(np.arange(1,500,5))\n",
    "draw_y=[]\n",
    "for i in draw_x:\n",
    "    draw_y.append(getScore(i,X_train,y_train))"
   ]
  },
  {
   "cell_type": "code",
   "execution_count": 17,
   "metadata": {},
   "outputs": [
    {
     "data": {
      "image/png": "[encoded data removed]",
      "text/plain": [
       "<Figure size 1080x576 with 1 Axes>"
      ]
     },
     "metadata": {
      "needs_background": "light"
     },
     "output_type": "display_data"
    }
   ],
   "source": [
    "import matplotlib.pyplot as plt\n",
    "import pylab\n",
    "pylab.rcParams['figure.figsize'] = (15.0, 8.0)\n",
    "plt.plot(draw_x,draw_y)\n",
    "plt.show()"
   ]
  }
 ],
 "metadata": {
  "kernelspec": {
   "display_name": "Python 3",
   "language": "python",
   "name": "python3"
  },
  "language_info": {
   "codemirror_mode": {
    "name": "ipython",
    "version": 3
   },
   "file_extension": ".py",
   "mimetype": "text/x-python",
   "name": "python",
   "nbconvert_exporter": "python",
   "pygments_lexer": "ipython3",
   "version": "3.5.4"
  }
 },
 "nbformat": 4,
 "nbformat_minor": 2
}
